{
 "cells": [
  {
   "cell_type": "code",
   "execution_count": null,
   "metadata": {},
   "outputs": [],
   "source": [
    "#installation de facebook scrapper\n",
    "!pip install facebook-scraper"
   ]
  },
  {
   "cell_type": "code",
   "execution_count": 1,
   "metadata": {},
   "outputs": [
    {
     "name": "stderr",
     "output_type": "stream",
     "text": [
      "/Library/Frameworks/Python.framework/Versions/3.10/lib/python3.10/site-packages/tqdm/auto.py:22: TqdmWarning: IProgress not found. Please update jupyter and ipywidgets. See https://ipywidgets.readthedocs.io/en/stable/user_install.html\n",
      "  from .autonotebook import tqdm as notebook_tqdm\n"
     ]
    }
   ],
   "source": [
    "from selenium import webdriver\n",
    "from webdriver_manager.chrome import ChromeDriverManager\n",
    "from time import sleep\n",
    "from parsel import Selector\n",
    "from selenium.webdriver.common.keys import Keys\n",
    "from facebook_scraper import get_posts\n",
    "from multiprocessing import Pool, cpu_count\n",
    "import re\n",
    "from requests import get\n",
    "import pandas as pd\n",
    "import numpy as np\n",
    "import time\n",
    "import os\n",
    "from selenium.webdriver.common.desired_capabilities import DesiredCapabilities\n",
    "from fake_useragent import UserAgent\n",
    "import pandas as pd\n",
    "import numpy as np\n"
   ]
  },
  {
   "cell_type": "code",
   "execution_count": null,
   "metadata": {},
   "outputs": [],
   "source": [
    "rechercheGoogle(\"yopougon\",1)"
   ]
  },
  {
   "cell_type": "code",
   "execution_count": 4,
   "metadata": {},
   "outputs": [],
   "source": [
    "def headless(proxy: str = \"\") :\n",
    "        ua = UserAgent()\n",
    "        userAgent = ua.random\n",
    "        options = webdriver.ChromeOptions()\n",
    "        options.add_argument(\"headless\")\n",
    "        options.add_argument(\"window-size=1500,1200\")\n",
    "        options.add_argument(\"no-sandbox\")\n",
    "        options.add_argument(\"disable-dev-shm-usage\")\n",
    "        options.add_argument(\"disable-gpu\")\n",
    "        options.add_argument(\"log-level=3\")\n",
    "        options.add_argument(f\"user-agent={userAgent}\")\n",
    "\n",
    "        if proxy != \"\":\n",
    "            proxy = True\n",
    "            options.add_argument(\"proxy-server={}\".format(proxy))\n",
    "\n",
    "        driver = webdriver.Chrome(ChromeDriverManager().install(), chrome_options=options)\n",
    "        return driver    \n"
   ]
  },
  {
   "cell_type": "code",
   "execution_count": 5,
   "metadata": {},
   "outputs": [],
   "source": [
    "# initialisation de selemium\n",
    "def rechercheGoogle(localite,nombrePage):\n",
    "    # chargement de webdriver et du navigateur\n",
    "    driver = headless()\n",
    "\n",
    "    # aller sur facebook\n",
    "    driver.get('http://www.google.com')\n",
    "    # recherche le champs de saisi\n",
    "    search_query = driver.find_element_by_name('q')\n",
    "    search_query.send_keys('site:facebook.com AND'+'\"'+localite +'\"AND \"'+ \"maison\" +'\"')\n",
    "    search_query.send_keys(Keys.RETURN)\n",
    "    test=True\n",
    "    n=0\n",
    "    lienGroup=[]\n",
    "    while test:\n",
    "        if n<nombrePage:\n",
    "            try:\n",
    "            ####### recuperer les liens des differents groupes\n",
    "                facebook_urls = driver.find_elements_by_xpath(\"//*[@class='yuRUbf']/a\")\n",
    "                for url in facebook_urls:\n",
    "                    if \"facebook\" in url.get_attribute(\"href\"):\n",
    "                        for id in range(len(url.get_attribute(\"href\").split(\"/\"))):\n",
    "                            if url.get_attribute(\"href\").split(\"/\")[id]==\"groups\":\n",
    "                                lienGroup.append(url.get_attribute(\"href\").split(\"/\")[id+1])\n",
    "                                break    \n",
    "                suivantpage = driver.find_element_by_id('pnnext')\n",
    "                sleep(5)\n",
    "                suivantpage.click()\n",
    "                n=n+1\n",
    "            except:\n",
    "                    test=False\n",
    "                    continue\n",
    "        else:\n",
    "                test=False\n",
    "\n",
    "    return lienGroup\n",
    "\n",
    "            "
   ]
  },
  {
   "cell_type": "code",
   "execution_count": 6,
   "metadata": {},
   "outputs": [],
   "source": [
    "def postGroup(nbpage,idGroup):\n",
    "    n=0\n",
    "    ListPost=[]\n",
    "    for post in get_posts(idGroup, cookies='cookies.txt', extra_info=True, pages=nbpage, options={\"comments\": False}):\n",
    "        print(post)\n",
    "        ListPost.append(post)\n",
    "ua = UserAgent()"
   ]
  },
  {
   "cell_type": "code",
   "execution_count": null,
   "metadata": {},
   "outputs": [],
   "source": [
    "ListIdGroup=rechercheGoogle(\"yopougon\",1)\n",
    "nbpage=1\n",
    "items=[(nbpage,x) for x in ListIdGroup]"
   ]
  },
  {
   "cell_type": "code",
   "execution_count": null,
   "metadata": {},
   "outputs": [],
   "source": [
    "def multiprocessing(postGroup , list):\n",
    "    with Pool(cpu_count()) as p:\n",
    "        print(cpu_count())\n",
    "        rec=p.starmap( postGroup,list)    \n",
    "        p.terminate()\n",
    "        p.join()\n",
    "        return rec\n",
    "# Lanceur du script\n",
    "if __name__ == '__main__':\n",
    "        start_time = time.time()\n",
    "        list = items\n",
    "        ListeDictionnaire=multiprocessing(postGroup , list)\n",
    "        # decomenter la ligne suivante pour afficher les valeurs\n",
    "        df = pd.concat([pd.DataFrame(lst) for lst in ListeDictionnaire])\n",
    "        df.to_csv(\"output.csv\")\n",
    "        end_time = time.time() - start_time\n",
    "        # Fin des traitement\n",
    "        print(\"Temps total de compilation \"+str(end_time))\n",
    "      "
   ]
  },
  {
   "attachments": {},
   "cell_type": "markdown",
   "metadata": {},
   "source": [
    "########################################### Debut du traitement ##############################################"
   ]
  },
  {
   "cell_type": "code",
   "execution_count": 111,
   "metadata": {},
   "outputs": [],
   "source": [
    "def typeMaison(publication,bag_app,bag_mais):\n",
    "     dicoType={}\n",
    "     count=1\n",
    "     for word in publication:\n",
    "        if word in bag_app:\n",
    "            dicoType[count]='appartement'\n",
    "            count=count+1  \n",
    "        elif word in bag_mais:\n",
    "            dicoType[count]='maison Individuel'\n",
    "            count=count+1  \n",
    "     return dicoType"
   ]
  },
  {
   "cell_type": "code",
   "execution_count": 113,
   "metadata": {},
   "outputs": [],
   "source": [
    "\n",
    "def check(post_elmt):\n",
    "    post_elmt.replace(\".\",\"\")\n",
    "    post_elmt = re.findall(\"\\d+\", post_elmt)\n",
    "    if len(post_elmt) != 0 :\n",
    "        post_elmt = post_elmt[0]  \n",
    "        return post_elmt\n",
    "    return 0\n",
    "\n",
    "def montant_loyer_piece(sac_mot, post):\n",
    "    dico_montant = {}\n",
    "    post_suiv = \"\"\n",
    "    cpt=0\n",
    "    for i in range(0,len(post)):\n",
    "        loyer=0\n",
    "        if post[i] in sac_mot:\n",
    "            # break\n",
    "            post_pred = post[i-1]\n",
    "            if i != (len(post)-1):\n",
    "                post_suiv = post[i+1]\n",
    "            loyer = check(post_pred)\n",
    "            if loyer!=0:\n",
    "                    cpt+=1\n",
    "                    dico_montant[cpt]= loyer\n",
    "        \n",
    "            if ((loyer == 0) and (i != (len(post)-2))):\n",
    "                loyer = check(post[i+1])\n",
    "                if loyer!=0:\n",
    "                    cpt+=1\n",
    "                    dico_montant[cpt]= loyer\n",
    "        \n",
    "        if loyer==0:\n",
    "            val=re.findall(\"[a-zA-Z]+\", post[i])\n",
    "            if len(val)!=0:\n",
    "                if val[0].upper() in sac_mot:\n",
    "                    loyer= check(post[i])\n",
    "                    if loyer!=0:\n",
    "                        cpt=cpt+1\n",
    "                        dico_montant[cpt]= loyer\n",
    "\n",
    "    return dico_montant\n"
   ]
  },
  {
   "cell_type": "code",
   "execution_count": 114,
   "metadata": {},
   "outputs": [],
   "source": [
    "def standing(sac,eco,haut,moyen):\n",
    "    dicoStanding = dict()\n",
    "    k = 1\n",
    "    for i in sac:\n",
    "        if i in eco:\n",
    "            dicoStanding[k] = \"econonmique\"\n",
    "            k += 1\n",
    "            continue\n",
    "        if i in haut:\n",
    "            dicoStanding[k] = \"haut\"\n",
    "            k += 1\n",
    "            continue\n",
    "        if i in moyen:\n",
    "            dicoStanding[k] = \"moyen\"\n",
    "            k += 1     \n",
    "    return dicoStanding"
   ]
  },
  {
   "cell_type": "code",
   "execution_count": 128,
   "metadata": {},
   "outputs": [],
   "source": [
    "immeuble_sac_mot =['APPARTEMENT','APPARTEMENTS','APARTEMENT','APARTEMENTS', \n",
    "           'APPATEMENT','APPATEMENTS', 'APPAT', 'APPATS','IMMEUBLE',\n",
    "           'IMMEUBLES','IMEUBLE','IMMEBLE',  'IMMEBLES','IMEBLE', 'IMEBLES','1ER','2EM','ETAGE']\n",
    "villa_sac_mot=[\"VILLA\",\"VILA\",'VILLAS','VILAS']\n",
    "piece_sac_mot=[\"PIECE\",\"PIECES\",\"PIEC\",'PCS']\n",
    "montant_loyer_sac_mot = [\"LOYER\", \"FCFA\",\"F\",\"CFA\",\"FR\",\"MIL\",\"MILLE\",\"MILLES\",'XOF','FA','€','$']\n",
    "motCleLocationValide=[\"LOYER\",\"LOUER\",\"LOUE\",\"LOU\",\"LOCATION\",\"LOCASSION\",\"LOCASION\",\"VISITE\",\"CAUTION\",\"CAUSION\",\"CAUSSION\",\"COSION\",\"COSSION\"]\n",
    "motCleLocationExclu=[\"VENTE\",\"VENT\",\"TERRAIN\",\"TERRIN\",\"TERAIN\",\"FONCIER\",\"ACHETER\",\"ACHETE\"]"
   ]
  },
  {
   "cell_type": "code",
   "execution_count": 129,
   "metadata": {},
   "outputs": [],
   "source": [
    "from unidecode import unidecode\n",
    "import re\n",
    "import codecs\n",
    "def nettoyage(compltexte):\n",
    "    compltexte = compltexte.replace(\"*\", \"\")\n",
    "    compltexte = compltexte.replace(\",\", \"\")\n",
    "    compltexte = compltexte.replace(\".\", \"\")\n",
    "    compltexte = re.sub(r\"[^\\w\\s]\", \" \", compltexte) # supprime les caractères spéciaux et symboles\n",
    "    listMot = compltexte.split() \n",
    "    listMot = [mot.upper() for mot in listMot]\n",
    "    listMot = [unidecode(mot) for mot in listMot]\n",
    "    return listMot\n",
    "\n",
    "    \n"
   ]
  },
  {
   "cell_type": "code",
   "execution_count": 121,
   "metadata": {},
   "outputs": [],
   "source": [
    "\n",
    "def first(postText):\n",
    "    listTraite = nettoyage(postText)\n",
    "    if \"YOPOUGON\"  in listTraite or \"YOP\" in listTraite:\n",
    "        for mot in listTraite:\n",
    "            if mot in motCleLocationValide:\n",
    "                val= listTraite                \n",
    "            elif mot in motCleLocationExclu:\n",
    "                val=  []\n",
    "            else:\n",
    "                val= listTraite\n",
    "    return val\n",
    "\n",
    "        "
   ]
  },
  {
   "cell_type": "code",
   "execution_count": null,
   "metadata": {},
   "outputs": [],
   "source": [
    "\n",
    "bd = pd.read_csv(\"data.csv\")"
   ]
  },
  {
   "cell_type": "code",
   "execution_count": 122,
   "metadata": {},
   "outputs": [],
   "source": [
    "publist=[]\n",
    "for pub in bd[\"post_text\"]:\n",
    "  try:\n",
    "    rt=first(pub)\n",
    "    if len(rt) !=0:\n",
    "        publist.append(rt)\n",
    "  except:\n",
    "        continue"
   ]
  },
  {
   "cell_type": "code",
   "execution_count": null,
   "metadata": {},
   "outputs": [],
   "source": [
    "for publ in publist:\n",
    "    typeM= typeMaison(publ,immeuble_sac_mot,villa_sac_mot)\n",
    "    print(\"#####################\")\n",
    "    print(typeM)\n",
    "    piece = montant_loyer_piece(piece_sac_mot,publ)\n",
    "    print(\"#####################\")\n",
    "    print(piece)\n",
    "    montant = montant_loyer_piece(montant_loyer_sac_mot,publ)\n",
    "    print(\"#####################\")\n",
    "    print(montant)\n",
    "    print(\"++++++++++++++++++++++++++++++++++++++++++++++++++++++++++++++++++\")\n",
    "\n",
    "    if len(typeM)==len(piece)==len(montant):\n",
    "        #   on prend tous\n",
    "        #   bisous   bisousbisousbisousbisousbisousbisousbisousbisousbisousbisousbisousbisousbisousbisousbisousbisousbisousbisousbisous   \n"
   ]
  }
 ],
 "metadata": {
  "kernelspec": {
   "display_name": "Python 3",
   "language": "python",
   "name": "python3"
  },
  "language_info": {
   "codemirror_mode": {
    "name": "ipython",
    "version": 3
   },
   "file_extension": ".py",
   "mimetype": "text/x-python",
   "name": "python",
   "nbconvert_exporter": "python",
   "pygments_lexer": "ipython3",
   "version": "3.10.0"
  },
  "orig_nbformat": 4,
  "vscode": {
   "interpreter": {
    "hash": "aee8b7b246df8f9039afb4144a1f6fd8d2ca17a180786b69acc140d282b71a49"
   }
  }
 },
 "nbformat": 4,
 "nbformat_minor": 2
}
